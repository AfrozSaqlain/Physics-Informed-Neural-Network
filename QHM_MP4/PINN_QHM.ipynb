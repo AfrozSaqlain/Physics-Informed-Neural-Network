{
 "cells": [
  {
   "cell_type": "markdown",
   "id": "87eddbad",
   "metadata": {},
   "source": [
    "# Using PINN"
   ]
  },
  {
   "cell_type": "markdown",
   "id": "9dcb1b68",
   "metadata": {},
   "source": [
    "When the Hamiltonian of the particle is given as \n",
    "\n",
    "$$\n",
    "    \\hat{H} = \\frac{\\hat{p}^2}{2m} + \\frac{1}{2}m \\omega^2 \\hat{x}^2\n",
    "$$\n",
    "\n",
    "The time-independent Schrödinger equation (TISE) is,\n",
    "\n",
    "$$\n",
    "    \\hat{H} | \\psi ⟩ = E | \\psi ⟩\n",
    "$$\n",
    "\n",
    "Solving the differential equation representing this eigenvalue problem in the coordinate basis, for the wave function \n",
    "\n",
    "$$ \n",
    "    ⟨ x | \\psi ⟩ = ψ ( x )\n",
    "$$\n",
    "\n",
    "amount to Hermite functions, given as following:\n",
    "\n",
    "\n",
    "$$\n",
    "\\psi_n(x) = \\left( \\frac{m \\omega}{\\pi \\hbar} \\right)^{\\frac{1}{4}} \\cdot \\frac{1}{\\sqrt{2^n n!}} \\cdot H_n\\left( \\sqrt{\\frac{m \\omega}{\\hbar}} x \\right) \\cdot e^{- \\frac{m \\omega x^2}{2 \\hbar}}\n",
    "$$\n",
    "\n",
    "For $m = \\omega = \\hbar = 1$, this simplifies to:\n",
    "\n",
    "$$\n",
    "\\psi_n(x) = \\left( \\frac{1}{\\pi} \\right)^{\\frac{1}{4}} \\cdot \\frac{1}{\\sqrt{2^n n!}} \\cdot H_n(x) \\cdot e^{- \\frac{x^2}{2}}\n",
    "$$\n",
    "\n",
    "---\n",
    "\n",
    "Using PINNs, we are trying to solve the following differential equation:\n",
    "\n",
    "$$\n",
    "    E | \\psi ⟩ = - \\frac{\\hbar^2}{2m} \\frac{d^2 | \\psi ⟩}{dx^2} + V | \\psi ⟩\n",
    "$$\n",
    "\n",
    "where $V = \\frac{1}{2}m \\omega^2 \\hat{x}^2$\n",
    "\n",
    "We generate collocation points `x`, and use our NN model to predict $|psi(x)⟩$. Then using Pytorch's auto-differentiation feature, we compute the single and double derivatives, as given in the TISE. Our objective thus becomes, to minimize this residual loss.\n",
    "\n",
    "We can also predict the energy eigenvalue, given that we have some training data points (which I have shown with orange marking in the plots)."
   ]
  },
  {
   "cell_type": "markdown",
   "id": "d5a146dc",
   "metadata": {},
   "source": [
    "---"
   ]
  },
  {
   "cell_type": "markdown",
   "id": "e3a10760",
   "metadata": {},
   "source": [
    "## Animated PINN solutions"
   ]
  },
  {
   "cell_type": "markdown",
   "id": "8c00a062",
   "metadata": {},
   "source": [
    "The video in file `qhm_pinn_10_with_full_training_data_points.mp4` shows that we can solve a differential equation such as Schrodinger Equation, with energy also as a trainable parameter, then we get the results.\n",
    "\n",
    "<video width=\"800\" height=\"300\" controls autoplay>\n",
    "  <source src=\"./qhm_pinn_10_with_full_training_data_points.mp4\" type=\"video/mp4\">\n",
    "  Your browser does not support the video tag.\n",
    "</video>"
   ]
  },
  {
   "cell_type": "markdown",
   "id": "03cce052",
   "metadata": {},
   "source": [
    "The video in file `qhm_pinn_7_with_full_training_data_points.mp4` shows that we can solve a differential equation such as Schrodinger Equation, with energy also as a trainable parameter, then we get the results.\n",
    "\n",
    "<video width=\"800\" height=\"300\" controls autoplay>\n",
    "  <source src=\"./qhm_pinn_7_with_full_training_data_points.mp4\" type=\"video/mp4\">\n",
    "  Your browser does not support the video tag.\n",
    "</video>"
   ]
  },
  {
   "cell_type": "markdown",
   "id": "4665ca88",
   "metadata": {},
   "source": [
    "The video in file `qhm_pinn_4_with_full_training_data_points.mp4` shows that we can solve a differential equation such as Schrodinger Equation, with energy also as a trainable parameter, then we get the results.\n",
    "\n",
    "<video width=\"800\" height=\"300\" controls autoplay>\n",
    "  <source src=\"./qhm_pinn_4_with_full_training_data_points.mp4\" type=\"video/mp4\">\n",
    "  Your browser does not support the video tag.\n",
    "</video>"
   ]
  },
  {
   "cell_type": "markdown",
   "id": "108111e4",
   "metadata": {},
   "source": [
    "# Without using PINNs\n",
    "\n",
    "When we just use the training data loss, i.e. without any collocation points, we get the following results"
   ]
  },
  {
   "cell_type": "markdown",
   "id": "0d817b3e",
   "metadata": {},
   "source": [
    "The video in file `qhm_non_pinn_10_with_full_training_data_points.mp4` shows bad results, as we go outside of training domain.\n",
    "\n",
    "<video width=\"800\" height=\"300\" controls autoplay>\n",
    "  <source src=\"./qhm_non_pinn_10_with_full_training_data_points.mp4\" type=\"video/mp4\">\n",
    "  Your browser does not support the video tag.\n",
    "</video>"
   ]
  },
  {
   "cell_type": "markdown",
   "id": "6edd1462",
   "metadata": {},
   "source": [
    "The video in file `qhm_non_pinn_10_with_half_training_data_points.mp4` shows bad results, as we go outside of training domain.\n",
    "\n",
    "<video width=\"800\" height=\"300\" controls autoplay>\n",
    "  <source src=\"./qhm_non_pinn_10_with_half_training_data_points.mp4\" type=\"video/mp4\">\n",
    "  Your browser does not support the video tag.\n",
    "</video>"
   ]
  }
 ],
 "metadata": {
  "language_info": {
   "name": "python"
  }
 },
 "nbformat": 4,
 "nbformat_minor": 5
}

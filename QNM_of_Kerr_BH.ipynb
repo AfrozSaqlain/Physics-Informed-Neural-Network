{
  "nbformat": 4,
  "nbformat_minor": 0,
  "metadata": {
    "colab": {
      "provenance": [],
      "authorship_tag": "ABX9TyOyhfLMkaxW8PQj9B7F2MmZ",
      "include_colab_link": true
    },
    "kernelspec": {
      "name": "python3",
      "display_name": "Python 3"
    },
    "language_info": {
      "name": "python"
    }
  },
  "cells": [
    {
      "cell_type": "markdown",
      "metadata": {
        "id": "view-in-github",
        "colab_type": "text"
      },
      "source": [
        "<a href=\"https://colab.research.google.com/github/AfrozSaqlain/Physics-Informed-Neural-Network/blob/main/QNM_of_Kerr_BH.ipynb\" target=\"_parent\"><img src=\"https://colab.research.google.com/assets/colab-badge.svg\" alt=\"Open In Colab\"/></a>"
      ]
    },
    {
      "cell_type": "code",
      "execution_count": 1,
      "metadata": {
        "id": "g163f74SVhhy"
      },
      "outputs": [],
      "source": [
        "import torch\n",
        "import torch.nn as nn\n",
        "import torch.optim as optim\n",
        "\n",
        "import numpy as np\n",
        "import matplotlib.pyplot as plt"
      ]
    },
    {
      "cell_type": "markdown",
      "source": [
        "### Future Modifications\n",
        "\n",
        "Need to implement Chebyshev polynomials for sampling"
      ],
      "metadata": {
        "id": "Oe31Q7_cVwe3"
      }
    },
    {
      "cell_type": "code",
      "source": [
        "x = torch.linspace(0, 1, 100).view(-1, 1).requires_grad_()\n",
        "u = torch.linspace(-1, 1, 100).view(-1, 1).requires_grad_()"
      ],
      "metadata": {
        "id": "zzeXA_3lVuI5"
      },
      "execution_count": 2,
      "outputs": []
    },
    {
      "cell_type": "markdown",
      "source": [
        "\\begin{align}\n",
        "F_0(a, x, m, s, \\omega, r_+, A) &= -a^4 x^2 \\omega^2 - 2 a^3 m x^2 \\omega + a^2 \\bigg(-A x^2 + x^2 \\Big(4 (r_+ + 1)^\\omega{}^2 + 2j (r_+ + 2) \\omega + 2j s (\\omega + 1j) - 2\\Big) \\nonumber \\\\\n",
        "&\\quad + x \\omega^2 - \\omega^2\\bigg) + 2 a m \\Big(r_+ x^2 (2 \\omega + 1j) - x (\\omega + 1j) - \\omega\\Big) \\nonumber \\\\\n",
        "&\\quad + A (x - 1) - 1j r_+ (2 \\omega + 1j) \\Big(x^2 (s - 2 1j \\omega + 1) - 2 (s + 1) x + 2 1j \\omega\\Big) \\nonumber \\\\\n",
        "&\\quad + (s + 1) (x - 2j \\omega).\n",
        "\\end{align}\n",
        "\n",
        "\\begin{align}\n",
        "F_1(a, x, m, s, \\omega, r_+) &= 2 a^4 x^4 (x - 1j \\omega) - 2j a^3 m x^4 + a^2 x^2 \\Big(2 r_+ x^2 (-1 + 2j \\omega) - (s + 3) x^2 + 2 x (s + 1j \\omega + 2) - 4j \\omega\\Big) \\nonumber \\\\\n",
        "&\\quad + 2j a m (x - 1) x^2 + (x - 1) \\Big(2 r_+ x^2 (1 - 2j \\omega) + (s + 1) x^2 - 2 (s + 1) x + 2j \\omega\\Big).\n",
        "\\end{align}\n",
        "\n",
        "\\begin{align}\n",
        "F_2(a, x) &= a^4 x^6 - 2 a^2 (x - 1) x^4 + (x - 1)^2 x^2.\n",
        "\\end{align}\n",
        "\n",
        "\\begin{align}\n",
        "G_0(a, u, m, s, \\omega, A) &= 4 a^2 (u^2 - 1) \\omega^2 - 4 a (u^2 - 1) \\omega \\Big((u - 1) |m - s| + (u + 1) |m + s| + 2 (s + 1) u\\Big) \\nonumber \\\\\n",
        "&\\quad + 4 \\Big(A (u^2 - 1) + m^2 + 2 m s u + s \\big((s + 1) u^2 - 1\\big)\\Big) \\nonumber \\\\\n",
        "&\\quad - 2 (u^2 - 1) |m + s| - 2 (u^2 - 1) |m - s| (|m + s| + 1) \\nonumber \\\\\n",
        "&\\quad - (u - 1)^2 |m - s|^2 - (u + 1)^2 |m + s|^2.\n",
        "\\end{align}\n",
        "\n",
        "\\begin{align}\n",
        "G_1(a, u, m, s, \\omega) &= -8 a (u^2 - 1)^2 \\omega - 4 (u^2 - 1) \\Big((u - 1) |m - s| + (u + 1) |m + s| + 2 u\\Big).\n",
        "\\end{align}\n",
        "\n",
        "\\begin{align}\n",
        "G_2(u) &= -4 (u^2 - 1)^2.\n",
        "\\end{align}\n"
      ],
      "metadata": {
        "id": "j9e5jvjWV0lv"
      }
    },
    {
      "cell_type": "code",
      "source": [
        "def F_0(a, x, m, s, omega, r_plus, A):\n",
        "    return -a**4 * x**2 * omega**2 - 2 * a**3 *m * x**2 * omega + a**2 * (-A * x**2 + x**2 * (4 * (r_plus + 1) ** omega**2 + 2j * (r_plus + 2) * omega + 2j * s * (omega + 1j) - 2) + x * omega**2 - omega**2) + 2 * a * m * (r_plus * x**2 * (2 * omega + 1j) - x * (omega + 1j) - omega) + A * (x - 1) - 1j * r_plus * (2 * omega + 1j) * (x**2 * (s - 2 * 1j * omega + 1) - 2 * (s + 1) * x + 2 * 1j * omega) + (s + 1) * (x - 2j * omega)\n",
        "\n",
        "def F_1(a, x, m, s, omega, r_plus):\n",
        "    return 2 * a**4 * x**4 * (x - 1j * omega) - 2j * a**3 * m * x**4 + a**2 * x**2 * (2 * r_plus * x**2 * (-1 +2j * omega) - (s + 3) * x**2 + 2 * x * (s + 1j * omega + 2) - 4j * omega) + 2j * a * m * (x - 1) * x**2 + (x - 1) * (2 * r_plus * x**2 * (1 - 2j * omega) + (s + 1) * x**2 - 2 * (s + 1) * x + 2j * omega)\n",
        "\n",
        "def F_2(a, x):\n",
        "    return a**4 * x**6 - 2 * a**2 * (x - 1) * x**4 + (x - 1)**2 * x**2\n",
        "\n",
        "def G_0(a, u, m, s, omega, A):\n",
        "    return 4 * a**2 * (u**2 - 1) * omega**2 - 4 * a * (u**2 - 1) * omega * ((u - 1) * torch.abs(torch.tensor(m - s)) + (u + 1) * torch.abs(torch.tensor(m + s)) + 2 * (s + 1) * u) + 4 * (A * (u**2 - 1) + m**2 + 2 * m * s * u + s * ((s + 1) * u**2 - 1)) - 2 * (u**2 - 1) * torch.abs(torch.tensor(m + s)) - 2 * (u**2 - 1) * torch.abs(torch.tensor(m - s)) * (torch.abs(torch.tensor(m + s)) + 1) - (u - 1)**2 * (torch.abs(torch.tensor(m - s)))**2 - (u + 1)**2 * (torch.abs(torch.tensor(m + s)))**2\n",
        "\n",
        "def G_1(a, u, m, s, omega):\n",
        "    return -8 * a * (u**2 - 1)**2 * omega - 4 * (u**2 - 1) * ((u - 1) * torch.abs(torch.tensor(m - s)) + (u + 1) * torch.abs(torch.tensor(m + s)) + 2 * u)\n",
        "\n",
        "def G_2(u):\n",
        "    return -4 * (u**2 - 1)**2"
      ],
      "metadata": {
        "id": "x8d3KmBMVvyh"
      },
      "execution_count": 3,
      "outputs": []
    },
    {
      "cell_type": "code",
      "source": [
        "class QNM_radial(nn.Module):\n",
        "    def __init__(self, input_size = 1, hidden_size = 200, output_size = 2):\n",
        "        super(QNM_radial, self).__init__()\n",
        "        self.layer = nn.Sequential(\n",
        "            nn.Linear(input_size, hidden_size),\n",
        "            nn.Tanh(),\n",
        "            nn.Linear(hidden_size, hidden_size),\n",
        "            nn.Tanh(),\n",
        "            nn.Linear(hidden_size, output_size)\n",
        "        )\n",
        "\n",
        "    def forward(self, x):\n",
        "        output = (torch.exp(x - 1) - 1) * self.layer(x) + 1\n",
        "        return output\n",
        "\n",
        "class QNM_angular(nn.Module):\n",
        "    def __init__(self, input_size = 1, hidden_size = 200, output_size = 2):\n",
        "        super(QNM_angular, self).__init__()\n",
        "        self.layer = nn.Sequential(\n",
        "            nn.Linear(input_size, hidden_size),\n",
        "            nn.Tanh(),\n",
        "            nn.Linear(hidden_size, hidden_size),\n",
        "            nn.Tanh(),\n",
        "            nn.Linear(hidden_size, output_size)\n",
        "        )\n",
        "\n",
        "    def forward(self, u):\n",
        "        output = (torch.exp(u + 1) - 1) * self.layer(u) + 1\n",
        "        return output\n",
        "\n",
        "omega = nn.Parameter(torch.tensor([0.7, -0.1], requires_grad=True))\n",
        "# A = nn.Parameter(torch.tensor(1.0, requires_grad=True))"
      ],
      "metadata": {
        "id": "sSgwRg5Gc5jq"
      },
      "execution_count": 4,
      "outputs": []
    },
    {
      "cell_type": "markdown",
      "source": [
        "## Parameters for Schwarzschild BH case (with gravitational perturbation)\n",
        "\n",
        "- a = 0 (spinless)\n",
        "- s = -2\n",
        "- m = 0\n",
        "- $r_+ = \\frac{1 + \\sqrt{1 - 4 a^2}}{2}$"
      ],
      "metadata": {
        "id": "9JW3VCW8dDsv"
      }
    },
    {
      "cell_type": "code",
      "source": [
        "a, s, m= 0, -2, 0\n",
        "r_plus = (1 + np.sqrt(1 - 4 * a**2)) / 2\n",
        "l = 2\n",
        "A = l * (l + 1) - s * (s + 1)"
      ],
      "metadata": {
        "id": "3S2esPCFc7UQ"
      },
      "execution_count": 5,
      "outputs": []
    },
    {
      "cell_type": "code",
      "source": [
        "net1 = QNM_radial()\n",
        "net2 = QNM_angular()\n",
        "\n",
        "opt_net1 = torch.compile(net1)\n",
        "opt_net2 = torch.compile(net2)\n",
        "\n",
        "# optimizer = optim.Adam(list(net1.parameters()) + list(net2.parameters()) + [omega, A], lr=0.005)\n",
        "optimizer = optim.Adam(list(net1.parameters()) + list(net2.parameters()) + [omega], lr=0.005)\n",
        "scheduler = optim.lr_scheduler.ExponentialLR(optimizer, 0.999)"
      ],
      "metadata": {
        "id": "cdrjRycldNTL"
      },
      "execution_count": 6,
      "outputs": []
    },
    {
      "cell_type": "code",
      "source": [
        "def loss(weight):\n",
        "    f_r, f_i = net1(x)[:, 0].unsqueeze(dim = 1), net1(x)[:, 1].unsqueeze(dim = 1)\n",
        "    g_r, g_i = net2(u)[:, 0].unsqueeze(dim = 1), net2(u)[:, 1].unsqueeze(dim = 1)\n",
        "\n",
        "    f_r_x = torch.autograd.grad(f_r, x, grad_outputs=torch.ones_like(f_r), create_graph=True)[0]\n",
        "    f_r_xx = torch.autograd.grad(f_r_x, x, grad_outputs=torch.ones_like(f_r_x), create_graph=True)[0]\n",
        "\n",
        "    f_i_x = torch.autograd.grad(f_i, x, grad_outputs=torch.ones_like(f_i), create_graph=True)[0]\n",
        "    f_i_xx = torch.autograd.grad(f_i_x, x, grad_outputs=torch.ones_like(f_i_x), create_graph=True)[0]\n",
        "\n",
        "    g_r_u = torch.autograd.grad(g_r, u, grad_outputs=torch.ones_like(g_r), create_graph=True)[0]\n",
        "    g_r_uu = torch.autograd.grad(g_r_u, u, grad_outputs=torch.ones_like(g_r_u), create_graph=True)[0]\n",
        "\n",
        "    g_i_u = torch.autograd.grad(g_i, u, grad_outputs=torch.ones_like(g_i), create_graph=True)[0]\n",
        "    g_i_uu = torch.autograd.grad(g_i_u, u, grad_outputs=torch.ones_like(g_i_u), create_graph=True)[0]\n",
        "\n",
        "    F_0_ = F_0(a = a, x = x, m = m, s = s, omega = torch.complex(omega[0], omega[1]), r_plus = r_plus, A = A)\n",
        "    F_1_ = F_1(a = a, x = x, m = m, s = s, omega = torch.complex(omega[0], omega[1]), r_plus = r_plus)\n",
        "    F_2_ = F_2(a = a, x = x)\n",
        "\n",
        "    G_0_ = G_0(a = a, u = u, m = m, s = s, omega = torch.complex(omega[0], omega[1]), A = A)\n",
        "    G_1_ = G_1(a = a, u = u, m = m, s = s, omega = torch.complex(omega[0], omega[1]))\n",
        "    G_2_ = G_2(u = u)\n",
        "\n",
        "    L_F_  = torch.abs(torch.complex(F_2_ * f_r_xx + F_1_.real * f_r_x - F_1_.imag * f_i_x + F_0_.real * f_r - F_0_.imag * f_i, F_2_ * f_i_xx + F_1_.real * f_i_x + F_1_.imag * f_r_x + F_0_.real * f_i + F_0_.imag * f_r))\n",
        "    L_G_ = torch.abs(torch.complex(G_2_ * g_r_uu + G_1_.real * g_r_u - G_1_.imag * g_i_u + G_0_.real * g_r - G_0_.imag * g_i, G_2_ * g_i_uu + G_1_.real * g_i_u + G_1_.imag * g_r_u + G_0_.real * g_i + G_0_.imag * g_r))\n",
        "\n",
        "    return weight * torch.mean(L_F_) + torch.mean(L_G_)\n"
      ],
      "metadata": {
        "id": "7P0oGpz5dGLG"
      },
      "execution_count": 7,
      "outputs": []
    },
    {
      "cell_type": "code",
      "source": [
        "for i in range(2000):\n",
        "    optimizer.zero_grad()\n",
        "    loss_ = loss(10)\n",
        "    loss_.backward()\n",
        "    # print(omega.grad, A.grad)\n",
        "    optimizer.step()\n",
        "    scheduler.step()\n",
        "\n",
        "    if i % 100 == 0:\n",
        "        print(f\"Epoch {i}, Loss: {loss_}\")"
      ],
      "metadata": {
        "colab": {
          "base_uri": "https://localhost:8080/"
        },
        "id": "RxNYNOBQdJIl",
        "outputId": "0deddccc-9939-4a36-f2bb-aa3870f7f345"
      },
      "execution_count": 8,
      "outputs": [
        {
          "output_type": "stream",
          "name": "stdout",
          "text": [
            "Epoch 0, Loss: 24.5294246673584\n",
            "Epoch 100, Loss: 0.9592694044113159\n",
            "Epoch 200, Loss: 0.8667488694190979\n",
            "Epoch 300, Loss: 0.6623705625534058\n",
            "Epoch 400, Loss: 0.4481692910194397\n",
            "Epoch 500, Loss: 0.7105443477630615\n",
            "Epoch 600, Loss: 0.5770654678344727\n",
            "Epoch 700, Loss: 0.4662024974822998\n",
            "Epoch 800, Loss: 0.4149976968765259\n",
            "Epoch 900, Loss: 0.881445586681366\n",
            "Epoch 1000, Loss: 0.3525920510292053\n",
            "Epoch 1100, Loss: 0.235138401389122\n",
            "Epoch 1200, Loss: 0.22144412994384766\n",
            "Epoch 1300, Loss: 0.1829904317855835\n",
            "Epoch 1400, Loss: 0.14509275555610657\n",
            "Epoch 1500, Loss: 0.28139728307724\n",
            "Epoch 1600, Loss: 0.1440720558166504\n",
            "Epoch 1700, Loss: 0.20608071982860565\n",
            "Epoch 1800, Loss: 0.19573983550071716\n",
            "Epoch 1900, Loss: 0.14794808626174927\n"
          ]
        }
      ]
    },
    {
      "cell_type": "code",
      "source": [
        "omega"
      ],
      "metadata": {
        "colab": {
          "base_uri": "https://localhost:8080/"
        },
        "id": "UwVzeWHOdSRj",
        "outputId": "9de51a99-29d9-4182-d9d7-4fec2b772ffa"
      },
      "execution_count": 9,
      "outputs": [
        {
          "output_type": "execute_result",
          "data": {
            "text/plain": [
              "Parameter containing:\n",
              "tensor([ 0.7474, -0.1842], requires_grad=True)"
            ]
          },
          "metadata": {},
          "execution_count": 9
        }
      ]
    },
    {
      "cell_type": "markdown",
      "source": [
        "The true value for $\\omega = 0.74734 - i 17793$ according to Leaver's method."
      ],
      "metadata": {
        "id": "SyAw51_hdqrm"
      }
    },
    {
      "cell_type": "markdown",
      "source": [
        "### For (l, m, n) = (3, 3, 0)"
      ],
      "metadata": {
        "id": "1XZ7a-9ofDm5"
      }
    },
    {
      "cell_type": "code",
      "source": [
        "a, s, m= 0, -2, 3\n",
        "r_plus = (1 + np.sqrt(1 - 4 * a**2)) / 2\n",
        "l = 3\n",
        "A = l * (l + 1) - s * (s + 1)"
      ],
      "metadata": {
        "id": "naqjFVU6dmx_"
      },
      "execution_count": 10,
      "outputs": []
    },
    {
      "cell_type": "code",
      "source": [
        "optimizer = optim.Adam(list(net1.parameters()) + list(net2.parameters()) + [omega], lr=0.005)\n",
        "scheduler = optim.lr_scheduler.ExponentialLR(optimizer, 0.999)\n",
        "\n",
        "\n",
        "for i in range(2500):\n",
        "    optimizer.zero_grad()\n",
        "    loss_ = loss(10)\n",
        "    loss_.backward()\n",
        "    # print(omega.grad, A.grad)\n",
        "    optimizer.step()\n",
        "    scheduler.step()\n",
        "\n",
        "    if i % 200 == 0:\n",
        "        print(f\"Epoch {i}, Loss: {loss_}\")"
      ],
      "metadata": {
        "colab": {
          "base_uri": "https://localhost:8080/"
        },
        "id": "Jp1iQrrCfOVF",
        "outputId": "1cba1c86-08e2-4567-b98a-81b99724a299"
      },
      "execution_count": 11,
      "outputs": [
        {
          "output_type": "stream",
          "name": "stdout",
          "text": [
            "Epoch 0, Loss: 29.963539123535156\n",
            "Epoch 200, Loss: 2.706085205078125\n",
            "Epoch 400, Loss: 0.9042857885360718\n",
            "Epoch 600, Loss: 0.674662172794342\n",
            "Epoch 800, Loss: 1.2629833221435547\n",
            "Epoch 1000, Loss: 0.6053053140640259\n",
            "Epoch 1200, Loss: 0.41230887174606323\n",
            "Epoch 1400, Loss: 0.3847203552722931\n",
            "Epoch 1600, Loss: 0.2793304920196533\n",
            "Epoch 1800, Loss: 0.2515694797039032\n",
            "Epoch 2000, Loss: 0.18043601512908936\n",
            "Epoch 2200, Loss: 0.17966563999652863\n",
            "Epoch 2400, Loss: 0.139055997133255\n"
          ]
        }
      ]
    },
    {
      "cell_type": "code",
      "source": [
        "omega"
      ],
      "metadata": {
        "colab": {
          "base_uri": "https://localhost:8080/"
        },
        "id": "gtCSvNyhgKDL",
        "outputId": "f0340c29-2ff6-4161-d9b9-3938ca781639"
      },
      "execution_count": 12,
      "outputs": [
        {
          "output_type": "execute_result",
          "data": {
            "text/plain": [
              "Parameter containing:\n",
              "tensor([ 1.2624, -0.5707], requires_grad=True)"
            ]
          },
          "metadata": {},
          "execution_count": 12
        }
      ]
    },
    {
      "cell_type": "markdown",
      "source": [
        "The value for QNM frequency predicted by Luna's paper is $\\omega = 1.2016 - 0.18521i$ with the error bar 0.23% for Real part and 0.11% for Imaginary part."
      ],
      "metadata": {
        "id": "uwiasWo5iazi"
      }
    },
    {
      "cell_type": "code",
      "source": [],
      "metadata": {
        "id": "CQll-90NhURR"
      },
      "execution_count": null,
      "outputs": []
    }
  ]
}
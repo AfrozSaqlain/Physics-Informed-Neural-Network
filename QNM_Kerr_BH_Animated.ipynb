{
 "cells": [
  {
   "cell_type": "code",
   "execution_count": 1,
   "metadata": {},
   "outputs": [],
   "source": [
    "import torch\n",
    "import torch.nn as nn\n",
    "import torch.optim as optim\n",
    "\n",
    "import os\n",
    "import numpy as np\n",
    "from PIL import Image\n",
    "import matplotlib.pyplot as plt\n",
    "\n",
    "import pykerr\n",
    "from scipy.constants import c, pi, G\n",
    "from scipy.signal import correlate\n",
    "from astropy.constants import M_sun"
   ]
  },
  {
   "cell_type": "code",
   "execution_count": 2,
   "metadata": {},
   "outputs": [],
   "source": [
    "if not os.path.exists(\"results\"):\n",
    "\tos.makedirs(\"results\")\n",
    "if not os.path.exists(\"plots\"):\n",
    "\tos.makedirs(\"plots\")"
   ]
  },
  {
   "cell_type": "code",
   "execution_count": 3,
   "metadata": {},
   "outputs": [],
   "source": [
    "def save_gif_PIL(outfile, files, fps=5, loop=0):\n",
    "    \"Helper function for saving GIFs\"\n",
    "    imgs = [Image.open(file) for file in files]\n",
    "    imgs[0].save(fp=outfile, format='GIF', append_images=imgs[1:], save_all=True, duration=int(1000/fps), loop=loop)\n",
    "\n",
    "def plot_waveforms(time, pinn_waveform, leaver_waveform, l, m, match_score):\n",
    "    plt.figure()\n",
    "    plt.title(f\"a = {a}      (l, m, n) = ({l}, {m}, 0)\")\n",
    "    plt.plot(time, pinn_waveform, label=\"PINN\", linewidth=1.5)\n",
    "    plt.plot(time, leaver_waveform, linestyle=\"--\", label=\"Leaver\", linewidth=1.5)\n",
    "    plt.text(0.015,0.9,\"Training step: %i\"%(i+1),fontsize=\"xx-large\",color=\"k\")\n",
    "\n",
    "    legend = plt.legend(\n",
    "        loc=\"upper right\",\n",
    "        bbox_to_anchor=(1.0, 1.0),\n",
    "        frameon=True,\n",
    "        title=f\"Match: {match_score:.6f}\",\n",
    "        title_fontproperties={\"weight\": \"bold\", \"size\": \"medium\"}\n",
    "    )\n",
    "\n",
    "    # Improve legend box aesthetics\n",
    "    frame = legend.get_frame()\n",
    "    frame.set_edgecolor(\"black\")\n",
    "    frame.set_linewidth(1.2)"
   ]
  },
  {
   "cell_type": "markdown",
   "metadata": {},
   "source": [
    "### Future Modifications\n",
    "\n",
    "Need to implement Chebyshev polynomials for sampling"
   ]
  },
  {
   "cell_type": "code",
   "execution_count": 4,
   "metadata": {},
   "outputs": [],
   "source": [
    "x = torch.linspace(0, 1, 100).view(-1, 1).requires_grad_()\n",
    "u = torch.linspace(-1, 1, 100).view(-1, 1).requires_grad_()\n",
    "time = np.linspace(0, 0.1, 100)\n",
    "\n",
    "# f_, tau_ = pykerr.qnmfreq(200, 0, 2, 0, 0), pykerr.qnmtau(200, 0, 2, 0, 0)\n",
    "f_ = ((c**3 / (4 * pi * G * 200 * M_sun.value)) * 0.74734)\n",
    "tau_ = - (((2 * G * 200 * M_sun.value) / c**3) * (1 / -0.17793))\n",
    "\n",
    "leaver_waveform = np.exp(-time/tau_) * np.cos(2 * np.pi * f_ * time)\n",
    "leaver_norm = (leaver_waveform - np.mean(leaver_waveform)) / np.std(leaver_waveform)"
   ]
  },
  {
   "cell_type": "markdown",
   "metadata": {},
   "source": [
    "\\begin{align}\n",
    "F_0(a, x, m, s, \\omega, r_+, A) &= -a^4 x^2 \\omega^2 - 2 a^3 m x^2 \\omega + a^2 \\bigg(-A x^2 + x^2 \\Big(4 (r_+ + 1)^\\omega{}^2 + 2j (r_+ + 2) \\omega + 2j s (\\omega + 1j) - 2\\Big) \\nonumber \\\\\n",
    "&\\quad + x \\omega^2 - \\omega^2\\bigg) + 2 a m \\Big(r_+ x^2 (2 \\omega + 1j) - x (\\omega + 1j) - \\omega\\Big) \\nonumber \\\\\n",
    "&\\quad + A (x - 1) - 1j r_+ (2 \\omega + 1j) \\Big(x^2 (s - 2 1j \\omega + 1) - 2 (s + 1) x + 2 1j \\omega\\Big) \\nonumber \\\\\n",
    "&\\quad + (s + 1) (x - 2j \\omega).\n",
    "\\end{align}\n",
    "\n",
    "\\begin{align}\n",
    "F_1(a, x, m, s, \\omega, r_+) &= 2 a^4 x^4 (x - 1j \\omega) - 2j a^3 m x^4 + a^2 x^2 \\Big(2 r_+ x^2 (-1 + 2j \\omega) - (s + 3) x^2 + 2 x (s + 1j \\omega + 2) - 4j \\omega\\Big) \\nonumber \\\\\n",
    "&\\quad + 2j a m (x - 1) x^2 + (x - 1) \\Big(2 r_+ x^2 (1 - 2j \\omega) + (s + 1) x^2 - 2 (s + 1) x + 2j \\omega\\Big).\n",
    "\\end{align}\n",
    "\n",
    "\\begin{align}\n",
    "F_2(a, x) &= a^4 x^6 - 2 a^2 (x - 1) x^4 + (x - 1)^2 x^2.\n",
    "\\end{align}\n",
    "\n",
    "\\begin{align}\n",
    "G_0(a, u, m, s, \\omega, A) &= 4 a^2 (u^2 - 1) \\omega^2 - 4 a (u^2 - 1) \\omega \\Big((u - 1) |m - s| + (u + 1) |m + s| + 2 (s + 1) u\\Big) \\nonumber \\\\\n",
    "&\\quad + 4 \\Big(A (u^2 - 1) + m^2 + 2 m s u + s \\big((s + 1) u^2 - 1\\big)\\Big) \\nonumber \\\\\n",
    "&\\quad - 2 (u^2 - 1) |m + s| - 2 (u^2 - 1) |m - s| (|m + s| + 1) \\nonumber \\\\\n",
    "&\\quad - (u - 1)^2 |m - s|^2 - (u + 1)^2 |m + s|^2.\n",
    "\\end{align}\n",
    "\n",
    "\\begin{align}\n",
    "G_1(a, u, m, s, \\omega) &= -8 a (u^2 - 1)^2 \\omega - 4 (u^2 - 1) \\Big((u - 1) |m - s| + (u + 1) |m + s| + 2 u\\Big).\n",
    "\\end{align}\n",
    "\n",
    "\\begin{align}\n",
    "G_2(u) &= -4 (u^2 - 1)^2.\n",
    "\\end{align}\n"
   ]
  },
  {
   "cell_type": "code",
   "execution_count": 5,
   "metadata": {},
   "outputs": [],
   "source": [
    "def F_0(a, x, m, s, omega, r_plus, A):\n",
    "    return -a**4 * x**2 * omega**2 - 2 * a**3 * m * x**2 * omega + a**2 * (-A * x**2 + x**2 * (4 * (r_plus + 1) *  omega**2 + 2j * (r_plus + 2) * omega + 2j * s * (omega + 1j) - 2) + x * omega**2 - omega**2) + 2 * a * m * (r_plus * x**2 * (2 * omega + 1j) - x * (omega + 1j) - omega) + A * (x - 1) - 1j * r_plus * (2 * omega + 1j) * (x**2 * (s - 2 * 1j * omega + 1) - 2 * (s + 1) * x + 2 * 1j * omega) + (s + 1) * (x - 2j * omega)\n",
    "\n",
    "def F_1(a, x, m, s, omega, r_plus):\n",
    "    return 2 * a**4 * x**4 * (x - 1j * omega) - 2j * a**3 * m * x**4 + a**2 * x**2 * (2 * r_plus * x**2 * (-1 +2j * omega) - (s + 3) * x**2 + 2 * x * (s + 1j * omega + 2) - 4j * omega) + 2j * a * m * (x - 1) * x**2 + (x - 1) * (2 * r_plus * x**2 * (1 - 2j * omega) + (s + 1) * x**2 - 2 * (s + 1) * x + 2j * omega)\n",
    "\n",
    "def F_2(a, x):\n",
    "    return a**4 * x**6 - 2 * a**2 * (x - 1) * x**4 + (x - 1)**2 * x**2\n",
    "\n",
    "def G_0(a, u, m, s, omega, A):\n",
    "    return 4 * a**2 * (u**2 - 1) * omega**2 - 4 * a * (u**2 - 1) * omega * ((u - 1) * torch.abs(torch.tensor(m - s)) + (u + 1) * torch.abs(torch.tensor(m + s)) + 2 * (s + 1) * u) + 4 * (A * (u**2 - 1) + m**2 + 2 * m * s * u + s * ((s + 1) * u**2 - 1)) - 2 * (u**2 - 1) * torch.abs(torch.tensor(m + s)) - 2 * (u**2 - 1) * torch.abs(torch.tensor(m - s)) * (torch.abs(torch.tensor(m + s)) + 1) - (u - 1)**2 * (torch.abs(torch.tensor(m - s)))**2 - (u + 1)**2 * (torch.abs(torch.tensor(m + s)))**2\n",
    "\n",
    "def G_1(a, u, m, s, omega):\n",
    "    return -8 * a * (u**2 - 1)**2 * omega - 4 * (u**2 - 1) * ((u - 1) * torch.abs(torch.tensor(m - s)) + (u + 1) * torch.abs(torch.tensor(m + s)) + 2 * u)\n",
    "\n",
    "def G_2(u):\n",
    "    return -4 * (u**2 - 1)**2"
   ]
  },
  {
   "cell_type": "code",
   "execution_count": 6,
   "metadata": {},
   "outputs": [],
   "source": [
    "l = 2"
   ]
  },
  {
   "cell_type": "code",
   "execution_count": 7,
   "metadata": {},
   "outputs": [],
   "source": [
    "class QNM_radial(nn.Module):\n",
    "    def __init__(self, input_size = 1, hidden_size = 200, output_size = 2):\n",
    "        super(QNM_radial, self).__init__()\n",
    "        self.layer = nn.Sequential(\n",
    "            nn.Linear(input_size, hidden_size),\n",
    "            nn.GELU(),\n",
    "            nn.Linear(hidden_size, hidden_size),\n",
    "            nn.GELU(),\n",
    "            nn.Linear(hidden_size, output_size)\n",
    "        )\n",
    "\n",
    "        torch.manual_seed(42)\n",
    "        for m in self.layer.modules():\n",
    "            if isinstance(m, nn.Linear):\n",
    "                nn.init.normal_(m.weight, mean = 0, std = 0.05)\n",
    "                nn.init.constant_(m.bias, val = 0.0)\n",
    "\n",
    "    def forward(self, x):\n",
    "        output = (torch.exp(x - 1) - 1) * self.layer(x) + 1\n",
    "        return output\n",
    "    \n",
    "class QNM_angular(nn.Module):\n",
    "    def __init__(self, input_size = 1, hidden_size = 200, output_size = 2):\n",
    "        super(QNM_angular, self).__init__()\n",
    "        self.layer = nn.Sequential(\n",
    "            nn.Linear(input_size, hidden_size),\n",
    "            nn.GELU(),\n",
    "            nn.Linear(hidden_size, hidden_size),\n",
    "            nn.GELU(),\n",
    "            nn.Linear(hidden_size, output_size)\n",
    "        )\n",
    "\n",
    "        torch.manual_seed(42)\n",
    "        for m in self.layer.modules():\n",
    "            if isinstance(m, nn.Linear):\n",
    "                nn.init.normal_(m.weight, mean = 0, std = 0.05)\n",
    "                nn.init.constant_(m.bias, val = 0.0)\n",
    "    \n",
    "    def forward(self, u):\n",
    "        output = (torch.exp(u + 1) - 1) * self.layer(u) + 1\n",
    "        return output\n",
    "    \n",
    "omega = nn.Parameter(torch.tensor([0.7, -0.1], requires_grad=True)) \n",
    "A = nn.Parameter(torch.tensor([l*(l+1) - 2.0, 0.0]), requires_grad=True)"
   ]
  },
  {
   "cell_type": "code",
   "execution_count": 8,
   "metadata": {},
   "outputs": [],
   "source": [
    "net1 = QNM_radial()\n",
    "net2 = QNM_angular()\n",
    "\n",
    "# opt_net1 = torch.compile(net1)\n",
    "# opt_net2 = torch.compile(net2)\n",
    "\n",
    "# optimizer = optim.Adam(list(net1.parameters()) + list(net2.parameters()) + [omega, A], lr=0.005)\n",
    "optimizer = optim.Adam(list(net1.parameters()) + list(net2.parameters()) + [omega, A], lr=0.005)\n",
    "scheduler = optim.lr_scheduler.ExponentialLR(optimizer, 0.999)"
   ]
  },
  {
   "cell_type": "markdown",
   "metadata": {},
   "source": [
    "## Parameters for Schwarzschild BH case (with gravitational perturbation)\n",
    "\n",
    "- a = 0 (spinless)\n",
    "- s = -2\n",
    "- m = 0\n",
    "- $r_+ = \\frac{1 + \\sqrt{1 - 4 a^2}}{2}$"
   ]
  },
  {
   "cell_type": "code",
   "execution_count": 9,
   "metadata": {},
   "outputs": [],
   "source": [
    "a, s, m= 0.0, -2, 0\n",
    "r_plus = (1 + np.sqrt(1 - 4 * a**2)) / 2"
   ]
  },
  {
   "cell_type": "code",
   "execution_count": 10,
   "metadata": {},
   "outputs": [],
   "source": [
    "def loss(weight):\n",
    "    f_r, f_i = net1(x)[:, 0].unsqueeze(dim = 1), net1(x)[:, 1].unsqueeze(dim = 1)\n",
    "    g_r, g_i = net2(u)[:, 0].unsqueeze(dim = 1), net2(u)[:, 1].unsqueeze(dim = 1)\n",
    "    \n",
    "    f_r_x = torch.autograd.grad(f_r, x, grad_outputs=torch.ones_like(f_r), create_graph=True)[0]\n",
    "    f_r_xx = torch.autograd.grad(f_r_x, x, grad_outputs=torch.ones_like(f_r_x), create_graph=True)[0]\n",
    "\n",
    "    f_i_x = torch.autograd.grad(f_i, x, grad_outputs=torch.ones_like(f_i), create_graph=True)[0]\n",
    "    f_i_xx = torch.autograd.grad(f_i_x, x, grad_outputs=torch.ones_like(f_i_x), create_graph=True)[0]\n",
    "\n",
    "    g_r_u = torch.autograd.grad(g_r, u, grad_outputs=torch.ones_like(g_r), create_graph=True)[0]\n",
    "    g_r_uu = torch.autograd.grad(g_r_u, u, grad_outputs=torch.ones_like(g_r_u), create_graph=True)[0]\n",
    "\n",
    "    g_i_u = torch.autograd.grad(g_i, u, grad_outputs=torch.ones_like(g_i), create_graph=True)[0]\n",
    "    g_i_uu = torch.autograd.grad(g_i_u, u, grad_outputs=torch.ones_like(g_i_u), create_graph=True)[0]\n",
    "\n",
    "    F_0_ = F_0(a = a, x = x, m = m, s = s, omega = torch.complex(omega[0], omega[1]), r_plus = r_plus, A = torch.complex(A[0], A[1]))\n",
    "    F_1_ = F_1(a = a, x = x, m = m, s = s, omega = torch.complex(omega[0], omega[1]), r_plus = r_plus)\n",
    "    F_2_ = F_2(a = a, x = x)\n",
    "\n",
    "    G_0_ = G_0(a = a, u = u, m = m, s = s, omega = torch.complex(omega[0], omega[1]), A = torch.complex(A[0], A[1]))\n",
    "    G_1_ = G_1(a = a, u = u, m = m, s = s, omega = torch.complex(omega[0], omega[1]))\n",
    "    G_2_ = G_2(u = u)\n",
    "\n",
    "    L_F_  = torch.abs(torch.complex(F_2_ * f_r_xx + F_1_.real * f_r_x - F_1_.imag * f_i_x + F_0_.real * f_r - F_0_.imag * f_i, F_2_ * f_i_xx + F_1_.real * f_i_x + F_1_.imag * f_r_x + F_0_.real * f_i + F_0_.imag * f_r))\n",
    "    L_G_ = torch.abs(torch.complex(G_2_ * g_r_uu + G_1_.real * g_r_u - G_1_.imag * g_i_u + G_0_.real * g_r - G_0_.imag * g_i, G_2_ * g_i_uu + G_1_.real * g_i_u + G_1_.imag * g_r_u + G_0_.real * g_i + G_0_.imag * g_r))\n",
    "\n",
    "    return weight * torch.mean(L_F_) + torch.mean(L_G_)\n"
   ]
  },
  {
   "cell_type": "code",
   "execution_count": null,
   "metadata": {},
   "outputs": [
    {
     "name": "stdout",
     "output_type": "stream",
     "text": [
      "Epoch 0 | Loss: 16.320016860961914 | Omega: (0.6949999928474426-0.10500000417232513j)\n",
      "Epoch 100 | Loss: 0.2617379128932953 | Omega: (0.7640773057937622-0.1843014359474182j)\n",
      "Epoch 200 | Loss: 0.16968567669391632 | Omega: (0.7590205669403076-0.18332539498806j)\n",
      "Epoch 300 | Loss: 0.36453676223754883 | Omega: (0.7498103380203247-0.18139898777008057j)\n",
      "Epoch 400 | Loss: 0.20284844934940338 | Omega: (0.7489073276519775-0.17660242319107056j)\n",
      "Epoch 500 | Loss: 0.12225915491580963 | Omega: (0.7501217126846313-0.17724467813968658j)\n",
      "Epoch 600 | Loss: 0.11630988866090775 | Omega: (0.749554455280304-0.17870664596557617j)\n",
      "Epoch 700 | Loss: 0.12814973294734955 | Omega: (0.7476443648338318-0.17680999636650085j)\n",
      "Epoch 800 | Loss: 0.09600942581892014 | Omega: (0.7489701509475708-0.17823877930641174j)\n",
      "Epoch 900 | Loss: 0.07832834124565125 | Omega: (0.7471605539321899-0.17749987542629242j)\n",
      "Epoch 1000 | Loss: 0.07464103400707245 | Omega: (0.748440682888031-0.1783640831708908j)\n",
      "Epoch 1100 | Loss: 0.0754716768860817 | Omega: (0.7470510005950928-0.17770732939243317j)\n",
      "Epoch 1200 | Loss: 0.04289613291621208 | Omega: (0.7466882467269897-0.17778147757053375j)\n",
      "Epoch 1300 | Loss: 0.057421691715717316 | Omega: (0.7464964985847473-0.1781361699104309j)\n",
      "Epoch 1400 | Loss: 0.04251736402511597 | Omega: (0.7459931373596191-0.1779581904411316j)\n",
      "Epoch 1500 | Loss: 0.027531791478395462 | Omega: (0.7469891309738159-0.17821645736694336j)\n",
      "Epoch 1600 | Loss: 0.02417745254933834 | Omega: (0.7469149827957153-0.1781461536884308j)\n",
      "Epoch 1700 | Loss: 0.04528874158859253 | Omega: (0.7465277314186096-0.17810100317001343j)\n",
      "Epoch 1800 | Loss: 0.022176595404744148 | Omega: (0.7461971640586853-0.17814919352531433j)\n",
      "Epoch 1900 | Loss: 0.02180417813360691 | Omega: (0.7459561824798584-0.17815761268138885j)\n",
      "Epoch 2000 | Loss: 0.02096777968108654 | Omega: (0.7459331154823303-0.17813968658447266j)\n"
     ]
    }
   ],
   "source": [
    "files = []\n",
    "\n",
    "for i in range(2001):\n",
    "    optimizer.zero_grad()\n",
    "    loss_ = loss(10)\n",
    "    loss_.backward()\n",
    "    # print(omega.grad, A.grad)\n",
    "    optimizer.step()\n",
    "    scheduler.step()\n",
    "\n",
    "    if i < 50:\n",
    "        f = ((c**3 / (4 * pi * G * 200 * M_sun.value)) * omega[0].detach().cpu().numpy())\n",
    "        tau = - (((2 * G * 200 * M_sun.value) / c**3) * (1 / omega[1].detach().cpu().numpy()))\n",
    "\n",
    "        pinn_waveform = np.exp(-time/tau) * np.cos(2 * np.pi * f * time)\n",
    "        pinn_norm = (pinn_waveform - np.mean(pinn_waveform)) / np.std(pinn_waveform)\n",
    "\n",
    "        corr = correlate(pinn_norm, leaver_norm, mode='valid')\n",
    "        match_score = np.max(corr) / len(pinn_waveform) \n",
    "\n",
    "        plot_waveforms(time, pinn_waveform, leaver_waveform, l, m, match_score)\n",
    "\n",
    "        file = \"plots/%.8i.png\"%(i+1)\n",
    "        plt.savefig(file, bbox_inches='tight', pad_inches=0.1, dpi=100, facecolor=\"white\")\n",
    "        files.append(file)\n",
    "        plt.close()\n",
    "\n",
    "    if i > 50 and i % 20 == 0:\n",
    "        f = ((c**3 / (4 * pi * G * 200 * M_sun.value)) * omega[0].detach().cpu().numpy())\n",
    "        tau = - (((2 * G * 200 * M_sun.value) / c**3) * (1 / omega[1].detach().cpu().numpy()))\n",
    "\n",
    "        pinn_waveform = np.exp(-time/tau) * np.cos(2 * np.pi * f * time)\n",
    "        pinn_norm = (pinn_waveform - np.mean(pinn_waveform)) / np.std(pinn_waveform)\n",
    "\n",
    "        corr = correlate(pinn_norm, leaver_norm, mode='valid')\n",
    "        match_score = np.max(corr) / len(pinn_waveform) \n",
    "\n",
    "        plot_waveforms(time, pinn_waveform, leaver_waveform, l, m, match_score)\n",
    "\n",
    "        file = \"plots/%.8i.png\"%(i+1)\n",
    "        plt.savefig(file, bbox_inches='tight', pad_inches=0.1, dpi=100, facecolor=\"white\")\n",
    "        files.append(file)\n",
    "        plt.close()\n",
    "\n",
    "    if i % 100 == 0:\n",
    "        print(f\"Epoch {i} | Loss: {loss_} | Omega: {torch.complex(omega[0], omega[1])}\")\n",
    "\n",
    "save_gif_PIL(f\"results/QNM_pinn_a_{a}.gif\", files, fps=30, loop=0)"
   ]
  },
  {
   "cell_type": "code",
   "execution_count": 12,
   "metadata": {},
   "outputs": [
    {
     "data": {
      "text/plain": [
       "tensor(0.7459-0.1781j, grad_fn=<ComplexBackward0>)"
      ]
     },
     "execution_count": 12,
     "metadata": {},
     "output_type": "execute_result"
    }
   ],
   "source": [
    "torch.complex(omega[0], omega[1])"
   ]
  }
 ],
 "metadata": {
  "kernelspec": {
   "display_name": "pinn",
   "language": "python",
   "name": "python3"
  },
  "language_info": {
   "codemirror_mode": {
    "name": "ipython",
    "version": 3
   },
   "file_extension": ".py",
   "mimetype": "text/x-python",
   "name": "python",
   "nbconvert_exporter": "python",
   "pygments_lexer": "ipython3",
   "version": "3.11.0"
  }
 },
 "nbformat": 4,
 "nbformat_minor": 2
}
